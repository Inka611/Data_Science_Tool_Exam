{
    "cells": [
        {
            "cell_type": "code",
            "execution_count": 2,
            "metadata": {},
            "outputs": [
                {
                    "data": {
                        "text/html": "<div>\n<style scoped>\n    .dataframe tbody tr th:only-of-type {\n        vertical-align: middle;\n    }\n\n    .dataframe tbody tr th {\n        vertical-align: top;\n    }\n\n    .dataframe thead th {\n        text-align: right;\n    }\n</style>\n<table border=\"1\" class=\"dataframe\">\n  <thead>\n    <tr style=\"text-align: right;\">\n      <th></th>\n      <th>strings</th>\n      <th>ints</th>\n      <th>floats</th>\n    </tr>\n  </thead>\n  <tbody>\n    <tr>\n      <th>0</th>\n      <td>Adam</td>\n      <td>1</td>\n      <td>1.123</td>\n    </tr>\n    <tr>\n      <th>1</th>\n      <td>Mike</td>\n      <td>3</td>\n      <td>1000.230</td>\n    </tr>\n    <tr>\n      <th>2</th>\n      <td>Mister X</td>\n      <td>4</td>\n      <td>0.000</td>\n    </tr>\n  </tbody>\n</table>\n</div>",
                        "text/plain": "    strings  ints    floats\n0      Adam     1     1.123\n1      Mike     3  1000.230\n2  Mister X     4     0.000"
                    },
                    "execution_count": 2,
                    "metadata": {},
                    "output_type": "execute_result"
                }
            ],
            "source": "import pandas as pd\n\n\ndf = pd.DataFrame({\n    \"strings\": [\"Adam\", \"Mike\", \"Mister X\"],\n    \"ints\": [1, 3, 4],\n    \"floats\": [1.123, 1000.23, 0]\n})\n\nres = df.head()\nres"
        },
        {
            "cell_type": "code",
            "execution_count": null,
            "metadata": {},
            "outputs": [],
            "source": ""
        }
    ],
    "metadata": {
        "kernelspec": {
            "display_name": "Python 3.10",
            "language": "python",
            "name": "python3"
        },
        "language_info": {
            "codemirror_mode": {
                "name": "ipython",
                "version": 3
            },
            "file_extension": ".py",
            "mimetype": "text/x-python",
            "name": "python",
            "nbconvert_exporter": "python",
            "pygments_lexer": "ipython3",
            "version": "3.10.12"
        }
    },
    "nbformat": 4,
    "nbformat_minor": 1
}