{
 "cells": [
  {
   "cell_type": "markdown",
   "id": "6f9369d8-f1ad-4a72-b839-fb86362fe0fe",
   "metadata": {},
   "source": [
    "# Data Science Tools and Ecosystem\n"
   ]
  },
  {
   "cell_type": "markdown",
   "id": "f7d22b09-b3eb-4bc2-ba57-ba15f7ce9dbc",
   "metadata": {},
   "source": [
    "In this notebook Data Science Tools and Ecosystems are summarized"
   ]
  },
  {
   "cell_type": "markdown",
   "id": "6181e063-d63b-442f-80f3-9aabafc60241",
   "metadata": {},
   "source": [
    "**Objectives** \n",
    "\n",
    "* List popular languages for Data Science \n",
    "\n",
    "* List popular libraries for Data Science \n",
    "\n",
    "* Samples of expression for Data Science \n"
   ]
  },
  {
   "cell_type": "markdown",
   "id": "00628b9d-2b00-47a7-acb7-2cd406c51c8e",
   "metadata": {},
   "source": [
    "Some of popular languages that Data Science use are:\n",
    "    \n",
    "    1. Python\n",
    "        \n",
    "    2. Java\n",
    "    \n",
    "    3. R\n",
    "    \n",
    "    4. Java\n",
    "    \n",
    "    5. Scala\n",
    "  \n"
   ]
  },
  {
   "cell_type": "markdown",
   "id": "469c2c86-18b5-4a02-aa94-45fcb5fc296f",
   "metadata": {},
   "source": [
    "Some of the commonly used libraries used by Data Sciencies include:\n",
    "1.  NumPy\n",
    "2.  Pandas\n",
    "3.  Mathplotlib\n",
    "4.  TensorFlow\n",
    "5.  SciPy\n",
    "\n",
    "    "
   ]
  },
  {
   "cell_type": "markdown",
   "id": "5f8bc68e-0373-42cd-b899-7cf1b528db6a",
   "metadata": {
    "tags": []
   },
   "source": [
    "\n",
    "---\n",
    "|Data Science Tools |\n",
    "---\n",
    "|Jupiter Lab|\n",
    "|Github |\n",
    "|Apache Airflow|\n",
    "---\n",
    "\n",
    "\n"
   ]
  },
  {
   "cell_type": "markdown",
   "id": "7002cd5c-78c9-45c2-b0c8-6239164c0fb3",
   "metadata": {},
   "source": [
    "### Below are few examples of evaluating arithmetic expressions in Python:\n"
   ]
  },
  {
   "cell_type": "code",
   "execution_count": null,
   "id": "2bd60941-0ed9-4454-9242-e64d9e4d55ac",
   "metadata": {},
   "outputs": [],
   "source": [
    "#this is a simple ariphmetic expression to multiply then add integeres\n",
    "(3*4)+5"
   ]
  },
  {
   "cell_type": "code",
   "execution_count": null,
   "id": "e8f0ac37-9a14-4170-b173-539aeccb4019",
   "metadata": {},
   "outputs": [],
   "source": [
    "#This will convert 200 minutes to hors by diving by 60\n",
    "200/60"
   ]
  },
  {
   "cell_type": "markdown",
   "id": "042b7a3b-9afa-43d3-840b-7c051c2521e4",
   "metadata": {},
   "source": [
    "## Author\n",
    "Inna Nahmanovich"
   ]
  },
  {
   "cell_type": "code",
   "execution_count": null,
   "id": "f121c593-0704-4109-ab7a-e3ce5c00fece",
   "metadata": {},
   "outputs": [],
   "source": []
  }
 ],
 "metadata": {
  "kernelspec": {
   "display_name": "Python",
   "language": "python",
   "name": "conda-env-python-py"
  },
  "language_info": {
   "codemirror_mode": {
    "name": "ipython",
    "version": 3
   },
   "file_extension": ".py",
   "mimetype": "text/x-python",
   "name": "python",
   "nbconvert_exporter": "python",
   "pygments_lexer": "ipython3",
   "version": "3.7.12"
  }
 },
 "nbformat": 4,
 "nbformat_minor": 5
}
